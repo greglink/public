{
 "cells": [
  {
   "cell_type": "code",
   "execution_count": 4,
   "metadata": {},
   "outputs": [
    {
     "name": "stdout",
     "output_type": "stream",
     "text": [
      "Pretax Income ranging from 75000 to 345000\n",
      "Avg approx error is 0.0038\n",
      "Polynomial terms are [-4.94658938e-07  8.94934191e-01]\n"
     ]
    },
    {
     "data": {
      "text/plain": [
       "<Figure size 640x480 with 1 Axes>"
      ]
     },
     "metadata": {},
     "output_type": "display_data"
    },
    {
     "name": "stdout",
     "output_type": "stream",
     "text": [
      "Starting sim for Home Ownership (Single/NonCA)+100000 @ 1.07+/-0.05 for 25 yrs ... Finished in 2.6 seconds\n",
      "Starting sim for Renting Model (Single/CA)+100000 @ 1.07+/-0.05 for 25 yrs ... Finished in 2.3 seconds\n"
     ]
    },
    {
     "ename": "NameError",
     "evalue": "name 'plt' is not defined",
     "output_type": "error",
     "traceback": [
      "\u001b[0;31m---------------------------------------------------------------------------\u001b[0m",
      "\u001b[0;31mNameError\u001b[0m                                 Traceback (most recent call last)",
      "\u001b[0;32m<ipython-input-4-2f51108a490f>\u001b[0m in \u001b[0;36m<module>\u001b[0;34m\u001b[0m\n\u001b[1;32m     60\u001b[0m     \u001b[0msim_results\u001b[0m\u001b[0;34m.\u001b[0m\u001b[0mappend\u001b[0m\u001b[0;34m(\u001b[0m\u001b[0mfm\u001b[0m\u001b[0;34m.\u001b[0m\u001b[0msim\u001b[0m\u001b[0;34m(\u001b[0m\u001b[0msim\u001b[0m\u001b[0;34m,\u001b[0m \u001b[0mnyears\u001b[0m\u001b[0;34m=\u001b[0m\u001b[0;36m25\u001b[0m\u001b[0;34m,\u001b[0m \u001b[0minitial_nw\u001b[0m\u001b[0;34m=\u001b[0m\u001b[0;36m100000\u001b[0m\u001b[0;34m,\u001b[0m \u001b[0mnw_apr_avg\u001b[0m\u001b[0;34m=\u001b[0m\u001b[0;36m1.07\u001b[0m\u001b[0;34m,\u001b[0m \u001b[0mnw_apr_stdev\u001b[0m\u001b[0;34m=\u001b[0m\u001b[0;36m0.05\u001b[0m\u001b[0;34m)\u001b[0m\u001b[0;34m)\u001b[0m\u001b[0;34m\u001b[0m\u001b[0;34m\u001b[0m\u001b[0m\n\u001b[1;32m     61\u001b[0m \u001b[0;31m# The default suffix is just standard deviation. The :0.80 suffix gives me the 10th and 90th percentile bars on plots\u001b[0m\u001b[0;34m\u001b[0m\u001b[0;34m\u001b[0m\u001b[0;34m\u001b[0m\u001b[0m\n\u001b[0;32m---> 62\u001b[0;31m \u001b[0mfm\u001b[0m\u001b[0;34m.\u001b[0m\u001b[0mplot\u001b[0m\u001b[0;34m(\u001b[0m\u001b[0msim_results\u001b[0m\u001b[0;34m,\u001b[0m \u001b[0msuffix\u001b[0m\u001b[0;34m=\u001b[0m\u001b[0;34m':0.80'\u001b[0m\u001b[0;34m)\u001b[0m\u001b[0;34m\u001b[0m\u001b[0;34m\u001b[0m\u001b[0m\n\u001b[0m\u001b[1;32m     63\u001b[0m \u001b[0;34m\u001b[0m\u001b[0m\n",
      "\u001b[0;32m~/git/public/tax/glfinancial.py\u001b[0m in \u001b[0;36mplot\u001b[0;34m(self, df_tuple, suffix, autoscale_y, max_thousands, year_start, year_end)\u001b[0m\n\u001b[1;32m    267\u001b[0m \u001b[0;34m\u001b[0m\u001b[0m\n\u001b[1;32m    268\u001b[0m     \u001b[0;32mdef\u001b[0m \u001b[0mplot\u001b[0m\u001b[0;34m(\u001b[0m\u001b[0mself\u001b[0m\u001b[0;34m,\u001b[0m \u001b[0mdf_tuple\u001b[0m\u001b[0;34m,\u001b[0m \u001b[0msuffix\u001b[0m\u001b[0;34m=\u001b[0m\u001b[0;34m':STDEV'\u001b[0m\u001b[0;34m,\u001b[0m \u001b[0mautoscale_y\u001b[0m\u001b[0;34m=\u001b[0m\u001b[0;32mTrue\u001b[0m\u001b[0;34m,\u001b[0m \u001b[0mmax_thousands\u001b[0m\u001b[0;34m=\u001b[0m\u001b[0;36m5\u001b[0m\u001b[0;34m*\u001b[0m\u001b[0;36m1000\u001b[0m\u001b[0;34m,\u001b[0m \u001b[0myear_start\u001b[0m\u001b[0;34m=\u001b[0m\u001b[0;36m1\u001b[0m\u001b[0;34m,\u001b[0m \u001b[0myear_end\u001b[0m\u001b[0;34m=\u001b[0m\u001b[0;36m20\u001b[0m\u001b[0;34m)\u001b[0m\u001b[0;34m:\u001b[0m\u001b[0;34m\u001b[0m\u001b[0;34m\u001b[0m\u001b[0m\n\u001b[0;32m--> 269\u001b[0;31m         \u001b[0mfig\u001b[0m\u001b[0;34m,\u001b[0m \u001b[0maxs\u001b[0m \u001b[0;34m=\u001b[0m \u001b[0mplt\u001b[0m\u001b[0;34m.\u001b[0m\u001b[0msubplots\u001b[0m\u001b[0;34m(\u001b[0m\u001b[0;36m2\u001b[0m\u001b[0;34m,\u001b[0m\u001b[0;36m3\u001b[0m\u001b[0;34m,\u001b[0m\u001b[0mfigsize\u001b[0m\u001b[0;34m=\u001b[0m\u001b[0;34m(\u001b[0m\u001b[0;36m17\u001b[0m\u001b[0;34m,\u001b[0m\u001b[0;36m9\u001b[0m\u001b[0;34m)\u001b[0m\u001b[0;34m,\u001b[0m \u001b[0mconstrained_layout\u001b[0m\u001b[0;34m=\u001b[0m\u001b[0;32mFalse\u001b[0m\u001b[0;34m)\u001b[0m\u001b[0;34m\u001b[0m\u001b[0;34m\u001b[0m\u001b[0m\n\u001b[0m\u001b[1;32m    270\u001b[0m         \u001b[0;32mif\u001b[0m \u001b[0misinstance\u001b[0m\u001b[0;34m(\u001b[0m\u001b[0mdf_tuple\u001b[0m\u001b[0;34m,\u001b[0m \u001b[0mlist\u001b[0m\u001b[0;34m)\u001b[0m\u001b[0;34m:\u001b[0m\u001b[0;34m\u001b[0m\u001b[0;34m\u001b[0m\u001b[0m\n\u001b[1;32m    271\u001b[0m             \u001b[0mdf_tuple_list\u001b[0m \u001b[0;34m=\u001b[0m \u001b[0mdf_tuple\u001b[0m\u001b[0;34m\u001b[0m\u001b[0;34m\u001b[0m\u001b[0m\n",
      "\u001b[0;31mNameError\u001b[0m: name 'plt' is not defined"
     ]
    }
   ],
   "source": [
    "from glfinancial import *\n",
    "import scipy.optimize\n",
    "import matplotlib.pyplot as plt\n",
    "import numpy as np\n",
    "\n",
    "pretax_income = np.arange(75 * 1000, 350 * 1000, 10 * 1000)\n",
    "posttax_income = posttax(pretax_income)\n",
    "posttax_income_as_percent = posttax_income/pretax_income\n",
    "polyfit_order = 1\n",
    "approx_percent_polynom = np.poly1d(np.polyfit(pretax_income, posttax_income/pretax_income, polyfit_order))\n",
    "approx_percent = approx_percent_polynom(pretax_income)\n",
    "approximation_error = [abs(x-y) for x, y  in zip(approx_percent, posttax_income_as_percent)]\n",
    "avg_approx_error = np.average(approximation_error)\n",
    "approximation_accuracy = [1-x for x in approximation_error]\n",
    "\n",
    "print('Pretax Income ranging from {} to {}'.format(pretax_income[0], pretax_income[-1]))\n",
    "print('Avg approx error is {:.2}'.format(avg_approx_error))\n",
    "print('Polynomial terms are {}'.format(np.asarray(approx_percent_polynom)))\n",
    "\n",
    "fig, ax = plt.subplots()\n",
    "plt.plot(pretax_income, posttax_income_as_percent, 'og', ms=5, label='2019 Federal Tax Rates (Single Filer)')\n",
    "plt.plot(pretax_income, approx_percent, '-r', ms=5, label='Polynomial Fit ({} order)'.format(polyfit_order))\n",
    "plt.plot(pretax_income, approximation_accuracy, 'xb', ms=5, label='Approximation Accuracy')\n",
    "plt.axis([50000,pretax_income[-1],0.65,1])\n",
    "ax.legend()\n",
    "ax.set_xlabel('PreTax Income ($)')\n",
    "ax.set_ylabel('% of PreTax Income')\n",
    "plt.grid()\n",
    "plt.show()\n",
    "\n",
    "fm = FinancialModel(year=2019)\n",
    "\n",
    "sim_results = [] # We'll append all sim results to this list for one large fm plot at the end\n",
    "ho_single = CashflowModel('Home Ownership (Single/NonCA)') #Home Ownership Model (as compared to renting, etc)\n",
    "cm = ho_single\n",
    "cm.add_yearly(100000, 'Salary', year_end=20, taxable=True)\n",
    "cm.add_monthly(-2000, 'Pri. Res.', monthly_nw=2000, year_end=15)\n",
    "cm.add_monthly(-1000, 'Sec. Res.', monthly_nw=1000, year_start=4, year_end=19)\n",
    "cm.add_monthly(-400, 'Auto Costs', yearly_apr=1.01) # Two vehicles - car and truck, one as a 'beater'\n",
    "cm.add_yearly(-19000, '401k Savings', yearly_nw=19000, year_end=25, taxable=True)\n",
    "cm.add_yearly(-5000, 'IRA Savings', yearly_nw=5000, year_end=25)\n",
    "cm.add_monthly(-3000, 'Monthly Spend')\n",
    "cm.add_yearly(-12000, 'Yearly Spend')\n",
    "\n",
    "\n",
    "renting_single = CashflowModel('Renting Model (Single/CA)', state_tax=ca_tax_rates)\n",
    "cm = renting_single\n",
    "cm.add_yearly(120000, 'Salary', year_end=20, taxable=True)\n",
    "cm.add_monthly(-2500, 'Primary Residence', monthly_nw=0)\n",
    "cm.add_monthly(-400, 'Auto Costs', yearly_apr=1.01)\n",
    "cm.add_yearly(-19000, '401k Savings', yearly_nw=19000, year_end=20, taxable=True)\n",
    "cm.add_yearly(-5000, 'IRA Savings', yearly_nw=5000, year_end=20)\n",
    "cm.add_monthly(-3300, 'Monthly Spend') # CA is expensive\n",
    "cm.add_yearly(-13500, 'Yearly Spend') # CA is expensive\n",
    "\n",
    "sims_to_run = [ho_single, renting_single]\n",
    "sim_results = []\n",
    "\n",
    "for sim in sims_to_run:\n",
    "    sim_results.append(fm.sim(sim, nyears=25, initial_nw=100000, nw_apr_avg=1.07, nw_apr_stdev=0.05))\n",
    "# The default suffix is just standard deviation. The :0.80 suffix gives me the 10th and 90th percentile bars on plots\n",
    "fm.plot(sim_results, suffix=':0.80')\n",
    "\n"
   ]
  },
  {
   "cell_type": "code",
   "execution_count": null,
   "metadata": {},
   "outputs": [],
   "source": []
  }
 ],
 "metadata": {
  "kernelspec": {
   "display_name": "Python 3",
   "language": "python",
   "name": "python3"
  },
  "language_info": {
   "codemirror_mode": {
    "name": "ipython",
    "version": 3
   },
   "file_extension": ".py",
   "mimetype": "text/x-python",
   "name": "python",
   "nbconvert_exporter": "python",
   "pygments_lexer": "ipython3",
   "version": "3.7.3"
  }
 },
 "nbformat": 4,
 "nbformat_minor": 2
}
